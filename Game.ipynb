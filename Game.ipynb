{
 "cells": [
  {
   "cell_type": "markdown",
   "metadata": {},
   "source": [
    "# Artificial Intelligence 2023/2024\n",
    "\n",
    "## First assignment: Informed and adversarial search strategies\n",
    "\n",
    "### Submission: April 2, 2024\n",
    "### Grading:  This assignment represents 20% of the grade for the course (4 values). If you implement more than what is requested you can get additionally a maximum of 1 value, that can complement the grade obtained globally for the project’s part.\n",
    "### Authors: Alexandre Sousa (202206427), Francisco Carqueija (202205113), Guilherme Oliveira (202204987)"
   ]
  },
  {
   "cell_type": "markdown",
   "metadata": {},
   "source": [
    "------------------------------------------------------------------------------------------------------------------------------------------------------------------"
   ]
  },
  {
   "cell_type": "code",
   "execution_count": 3,
   "metadata": {},
   "outputs": [],
   "source": [
    "import numpy as np\n",
    "import copy\n",
    "import math \n",
    "import random\n",
    "import pygame\n",
    "import sys\n"
   ]
  },
  {
   "cell_type": "markdown",
   "metadata": {},
   "source": [
    "------------------------------------------------------------------------------------------------------------------------------------------------------------------"
   ]
  },
  {
   "cell_type": "markdown",
   "metadata": {},
   "source": [
    "## Game Interface:"
   ]
  },
  {
   "cell_type": "code",
   "execution_count": 4,
   "metadata": {},
   "outputs": [
    {
     "ename": "",
     "evalue": "",
     "output_type": "error",
     "traceback": [
      "\u001b[1;31mThe Kernel crashed while executing code in the current cell or a previous cell. \n",
      "\u001b[1;31mPlease review the code in the cell(s) to identify a possible cause of the failure. \n",
      "\u001b[1;31mClick <a href='https://aka.ms/vscodeJupyterKernelCrash'>here</a> for more info. \n",
      "\u001b[1;31mView Jupyter <a href='command:jupyter.viewOutput'>log</a> for further details."
     ]
    }
   ],
   "source": [
    "# Game settings\n",
    "ROW_COUNT = 6\n",
    "COL_COUNT = 7\n",
    "SQUARESIZE = 100\n",
    "\n",
    "# Define colors\n",
    "BLUE = (0, 0, 255)\n",
    "BLACK = (0, 0, 0)\n",
    "RED = (255, 0, 0)\n",
    "YELLOW = (255, 255, 0)\n",
    "\n",
    "width = COL_COUNT * SQUARESIZE\n",
    "height = (ROW_COUNT + 1) * SQUARESIZE\n",
    "size = (width, height)\n",
    "\n",
    "RADIUS = int(SQUARESIZE / 2 - 5)\n",
    "\n",
    "screen = pygame.display.set_mode(size)\n",
    "\n",
    "\n",
    "class Board:\n",
    "    def __init__(self):\n",
    "        self.board = np.zeros((ROW_COUNT, COL_COUNT))\n",
    "        self.column_heights = np.full(COL_COUNT, ROW_COUNT - 1, dtype=int)\n",
    "        self.game_over = False\n",
    "        self.turn = 0  # Player 1 starts\n",
    "\n",
    "    def drop_pieces(self, player , col):\n",
    "        if self.valid_col(col):\n",
    "            height = self.column_heights[col]\n",
    "            self.board[height][col] = player\n",
    "            self.column_heights[col] = height-1\n",
    "            return True\n",
    "        else:\n",
    "            print(\"Invalid move\")\n",
    "            return False\n",
    "        \n",
    "    def valid_col(self, col):\n",
    "        if self.column_heights[col] == -1 :\n",
    "            return False\n",
    "        return True\n",
    "    \n",
    "    def win(self,player): \n",
    "        #Verificar horizontal\n",
    "        for c in range(COL_COUNT-3):\n",
    "            for r in range(ROW_COUNT):\n",
    "                if self.board[r][c] == player and self.board[r][c+1] == player and self.board[r][c+2] == player and self.board[r][c+3] == player:\n",
    "                    return True\n",
    "        #Verificar vertical\n",
    "                \n",
    "        for c in range(COL_COUNT):\n",
    "            for r in range(ROW_COUNT - 3):\n",
    "                if self.board[r][c] == player and self.board[r+1][c] == player and self.board[r+2][c] == player and self.board[r+3][c] == player: \n",
    "                    return True\n",
    "                \n",
    "        #Verificar diagonal com declive positivo\n",
    "        \n",
    "        for c in range(COL_COUNT - 3):\n",
    "            for r in range(3,ROW_COUNT):\n",
    "                if self.board[r][c] == player and self.board[r-1][c+1] == player and self.board[r-2][c+2] == player and self.board[r-3][c+3] == player: \n",
    "                    return True \n",
    "        #Verificar diagonal com decline negativo \n",
    "        for c in range(COL_COUNT - 3):\n",
    "            for r in range(3):\n",
    "                if self.board[r][c] == player and self.board[r+1][c+1] == player and self.board[r+2][c+2] == player and self.board[r+3][c+3] == player: \n",
    "                    return True\n",
    "                \n",
    "        return False \n",
    "\n",
    "    def is_full(self):\n",
    "        return np.all(self.column_heights < 0)\n",
    "\n",
    "    def print_board(self):\n",
    "\n",
    "        print(self.board)\n",
    "\n",
    "\n",
    "\n",
    "pygame.init()\n",
    "\n",
    "def draw_board(board):\n",
    "    for c in range(COL_COUNT):\n",
    "        for r in range(ROW_COUNT):\n",
    "            pygame.draw.rect(screen, BLUE, (c * SQUARESIZE, (r+1) * SQUARESIZE, SQUARESIZE, SQUARESIZE))\n",
    "            pygame.draw.circle(screen, BLACK, (int(c * SQUARESIZE + SQUARESIZE / 2), int((r+1) * SQUARESIZE + SQUARESIZE / 2)), RADIUS)\n",
    "    \n",
    "    for c in range(COL_COUNT):\n",
    "        for r in range(ROW_COUNT):\n",
    "            if board.board[r][c] == 1:\n",
    "                pygame.draw.circle(screen, RED, (int(c * SQUARESIZE + SQUARESIZE / 2),  int((r+1) * SQUARESIZE + SQUARESIZE / 2)) , RADIUS)\n",
    "            elif board.board[r][c] == 2:\n",
    "                pygame.draw.circle(screen, YELLOW, (int(c * SQUARESIZE + SQUARESIZE / 2), int((r+1)* SQUARESIZE + SQUARESIZE / 2))  , RADIUS)\n",
    "    pygame.display.update()\n",
    "\n",
    "\n",
    "board = Board()\n",
    "draw_board(board)\n",
    "\n",
    "\n",
    "pygame.time.wait(10000) \n",
    "\n",
    "pygame.quit()"
   ]
  }
 ],
 "metadata": {
  "kernelspec": {
   "display_name": "Python 3",
   "language": "python",
   "name": "python3"
  },
  "language_info": {
   "codemirror_mode": {
    "name": "ipython",
    "version": 3
   },
   "file_extension": ".py",
   "mimetype": "text/x-python",
   "name": "python",
   "nbconvert_exporter": "python",
   "pygments_lexer": "ipython3",
   "version": "3.9.6"
  }
 },
 "nbformat": 4,
 "nbformat_minor": 2
}
